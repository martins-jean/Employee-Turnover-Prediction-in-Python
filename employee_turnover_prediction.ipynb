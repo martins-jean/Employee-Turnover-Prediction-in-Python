{
  "nbformat": 4,
  "nbformat_minor": 0,
  "metadata": {
    "colab": {
      "provenance": [],
      "authorship_tag": "ABX9TyN0h0/hWSwgxgGNd41L/cCc",
      "include_colab_link": true
    },
    "kernelspec": {
      "name": "python3",
      "display_name": "Python 3"
    },
    "language_info": {
      "name": "python"
    }
  },
  "cells": [
    {
      "cell_type": "markdown",
      "metadata": {
        "id": "view-in-github",
        "colab_type": "text"
      },
      "source": [
        "<a href=\"https://colab.research.google.com/github/martins-jean/Employee-Turnover-Prediction-in-Python/blob/main/employee_turnover_prediction.ipynb\" target=\"_parent\"><img src=\"https://colab.research.google.com/assets/colab-badge.svg\" alt=\"Open In Colab\"/></a>"
      ]
    },
    {
      "cell_type": "markdown",
      "source": [
        "<h1>Why should we care about employee churn?</h1>\n",
        "<p text-align='justify'>Employee turnover is the process of employees leaving the company. Also known as churn or attrition, it represents high costs for any firm. Taking a data-driven approach to people management and being able to predict churn can enable better hiring and retention decisions."
      ],
      "metadata": {
        "id": "tXQ2AE-0VQeP"
      }
    },
    {
      "cell_type": "markdown",
      "source": [
        "<h2>I. Exploratory Data Analysis</h2>"
      ],
      "metadata": {
        "id": "K_mPQy9abKaI"
      }
    },
    {
      "cell_type": "code",
      "execution_count": 1,
      "metadata": {
        "id": "7WW4KGWfP2VZ"
      },
      "outputs": [],
      "source": [
        "# Import the necessary packages\n",
        "import numpy as np\n",
        "import pandas as pd\n",
        "import matplotlib.pyplot as plt\n",
        "import seaborn as sns"
      ]
    },
    {
      "cell_type": "code",
      "source": [
        "# Load the dataset from its GitHub repository and transform into a Pandas dataframe\n",
        "url = 'https://raw.githubusercontent.com/martins-jean/Employee-Turnover-Prediction-in-Python/main/turnover_data.csv'\n",
        "data = pd.read_csv(url)\n",
        "data.head()"
      ],
      "metadata": {
        "colab": {
          "base_uri": "https://localhost:8080/",
          "height": 206
        },
        "id": "jipNfucFRLv_",
        "outputId": "d6432882-4eb7-4d78-96b7-d6b416701945"
      },
      "execution_count": 2,
      "outputs": [
        {
          "output_type": "execute_result",
          "data": {
            "text/plain": [
              "   satisfaction  evaluation  number_of_projects  average_montly_hours  \\\n",
              "0          0.38        0.53                   2                   157   \n",
              "1          0.80        0.86                   5                   262   \n",
              "2          0.11        0.88                   7                   272   \n",
              "3          0.72        0.87                   5                   223   \n",
              "4          0.37        0.52                   2                   159   \n",
              "\n",
              "   time_spend_company  work_accident  churn  promotion department  salary  \n",
              "0                   3              0      1          0      sales     low  \n",
              "1                   6              0      1          0      sales  medium  \n",
              "2                   4              0      1          0      sales  medium  \n",
              "3                   5              0      1          0      sales     low  \n",
              "4                   3              0      1          0      sales     low  "
            ],
            "text/html": [
              "\n",
              "  <div id=\"df-9622f48e-2342-4871-9d49-6e7c4023f882\" class=\"colab-df-container\">\n",
              "    <div>\n",
              "<style scoped>\n",
              "    .dataframe tbody tr th:only-of-type {\n",
              "        vertical-align: middle;\n",
              "    }\n",
              "\n",
              "    .dataframe tbody tr th {\n",
              "        vertical-align: top;\n",
              "    }\n",
              "\n",
              "    .dataframe thead th {\n",
              "        text-align: right;\n",
              "    }\n",
              "</style>\n",
              "<table border=\"1\" class=\"dataframe\">\n",
              "  <thead>\n",
              "    <tr style=\"text-align: right;\">\n",
              "      <th></th>\n",
              "      <th>satisfaction</th>\n",
              "      <th>evaluation</th>\n",
              "      <th>number_of_projects</th>\n",
              "      <th>average_montly_hours</th>\n",
              "      <th>time_spend_company</th>\n",
              "      <th>work_accident</th>\n",
              "      <th>churn</th>\n",
              "      <th>promotion</th>\n",
              "      <th>department</th>\n",
              "      <th>salary</th>\n",
              "    </tr>\n",
              "  </thead>\n",
              "  <tbody>\n",
              "    <tr>\n",
              "      <th>0</th>\n",
              "      <td>0.38</td>\n",
              "      <td>0.53</td>\n",
              "      <td>2</td>\n",
              "      <td>157</td>\n",
              "      <td>3</td>\n",
              "      <td>0</td>\n",
              "      <td>1</td>\n",
              "      <td>0</td>\n",
              "      <td>sales</td>\n",
              "      <td>low</td>\n",
              "    </tr>\n",
              "    <tr>\n",
              "      <th>1</th>\n",
              "      <td>0.80</td>\n",
              "      <td>0.86</td>\n",
              "      <td>5</td>\n",
              "      <td>262</td>\n",
              "      <td>6</td>\n",
              "      <td>0</td>\n",
              "      <td>1</td>\n",
              "      <td>0</td>\n",
              "      <td>sales</td>\n",
              "      <td>medium</td>\n",
              "    </tr>\n",
              "    <tr>\n",
              "      <th>2</th>\n",
              "      <td>0.11</td>\n",
              "      <td>0.88</td>\n",
              "      <td>7</td>\n",
              "      <td>272</td>\n",
              "      <td>4</td>\n",
              "      <td>0</td>\n",
              "      <td>1</td>\n",
              "      <td>0</td>\n",
              "      <td>sales</td>\n",
              "      <td>medium</td>\n",
              "    </tr>\n",
              "    <tr>\n",
              "      <th>3</th>\n",
              "      <td>0.72</td>\n",
              "      <td>0.87</td>\n",
              "      <td>5</td>\n",
              "      <td>223</td>\n",
              "      <td>5</td>\n",
              "      <td>0</td>\n",
              "      <td>1</td>\n",
              "      <td>0</td>\n",
              "      <td>sales</td>\n",
              "      <td>low</td>\n",
              "    </tr>\n",
              "    <tr>\n",
              "      <th>4</th>\n",
              "      <td>0.37</td>\n",
              "      <td>0.52</td>\n",
              "      <td>2</td>\n",
              "      <td>159</td>\n",
              "      <td>3</td>\n",
              "      <td>0</td>\n",
              "      <td>1</td>\n",
              "      <td>0</td>\n",
              "      <td>sales</td>\n",
              "      <td>low</td>\n",
              "    </tr>\n",
              "  </tbody>\n",
              "</table>\n",
              "</div>\n",
              "    <div class=\"colab-df-buttons\">\n",
              "\n",
              "  <div class=\"colab-df-container\">\n",
              "    <button class=\"colab-df-convert\" onclick=\"convertToInteractive('df-9622f48e-2342-4871-9d49-6e7c4023f882')\"\n",
              "            title=\"Convert this dataframe to an interactive table.\"\n",
              "            style=\"display:none;\">\n",
              "\n",
              "  <svg xmlns=\"http://www.w3.org/2000/svg\" height=\"24px\" viewBox=\"0 -960 960 960\">\n",
              "    <path d=\"M120-120v-720h720v720H120Zm60-500h600v-160H180v160Zm220 220h160v-160H400v160Zm0 220h160v-160H400v160ZM180-400h160v-160H180v160Zm440 0h160v-160H620v160ZM180-180h160v-160H180v160Zm440 0h160v-160H620v160Z\"/>\n",
              "  </svg>\n",
              "    </button>\n",
              "\n",
              "  <style>\n",
              "    .colab-df-container {\n",
              "      display:flex;\n",
              "      gap: 12px;\n",
              "    }\n",
              "\n",
              "    .colab-df-convert {\n",
              "      background-color: #E8F0FE;\n",
              "      border: none;\n",
              "      border-radius: 50%;\n",
              "      cursor: pointer;\n",
              "      display: none;\n",
              "      fill: #1967D2;\n",
              "      height: 32px;\n",
              "      padding: 0 0 0 0;\n",
              "      width: 32px;\n",
              "    }\n",
              "\n",
              "    .colab-df-convert:hover {\n",
              "      background-color: #E2EBFA;\n",
              "      box-shadow: 0px 1px 2px rgba(60, 64, 67, 0.3), 0px 1px 3px 1px rgba(60, 64, 67, 0.15);\n",
              "      fill: #174EA6;\n",
              "    }\n",
              "\n",
              "    .colab-df-buttons div {\n",
              "      margin-bottom: 4px;\n",
              "    }\n",
              "\n",
              "    [theme=dark] .colab-df-convert {\n",
              "      background-color: #3B4455;\n",
              "      fill: #D2E3FC;\n",
              "    }\n",
              "\n",
              "    [theme=dark] .colab-df-convert:hover {\n",
              "      background-color: #434B5C;\n",
              "      box-shadow: 0px 1px 3px 1px rgba(0, 0, 0, 0.15);\n",
              "      filter: drop-shadow(0px 1px 2px rgba(0, 0, 0, 0.3));\n",
              "      fill: #FFFFFF;\n",
              "    }\n",
              "  </style>\n",
              "\n",
              "    <script>\n",
              "      const buttonEl =\n",
              "        document.querySelector('#df-9622f48e-2342-4871-9d49-6e7c4023f882 button.colab-df-convert');\n",
              "      buttonEl.style.display =\n",
              "        google.colab.kernel.accessAllowed ? 'block' : 'none';\n",
              "\n",
              "      async function convertToInteractive(key) {\n",
              "        const element = document.querySelector('#df-9622f48e-2342-4871-9d49-6e7c4023f882');\n",
              "        const dataTable =\n",
              "          await google.colab.kernel.invokeFunction('convertToInteractive',\n",
              "                                                    [key], {});\n",
              "        if (!dataTable) return;\n",
              "\n",
              "        const docLinkHtml = 'Like what you see? Visit the ' +\n",
              "          '<a target=\"_blank\" href=https://colab.research.google.com/notebooks/data_table.ipynb>data table notebook</a>'\n",
              "          + ' to learn more about interactive tables.';\n",
              "        element.innerHTML = '';\n",
              "        dataTable['output_type'] = 'display_data';\n",
              "        await google.colab.output.renderOutput(dataTable, element);\n",
              "        const docLink = document.createElement('div');\n",
              "        docLink.innerHTML = docLinkHtml;\n",
              "        element.appendChild(docLink);\n",
              "      }\n",
              "    </script>\n",
              "  </div>\n",
              "\n",
              "\n",
              "<div id=\"df-662c5d8d-f194-450f-af94-5bc8827621e0\">\n",
              "  <button class=\"colab-df-quickchart\" onclick=\"quickchart('df-662c5d8d-f194-450f-af94-5bc8827621e0')\"\n",
              "            title=\"Suggest charts.\"\n",
              "            style=\"display:none;\">\n",
              "\n",
              "<svg xmlns=\"http://www.w3.org/2000/svg\" height=\"24px\"viewBox=\"0 0 24 24\"\n",
              "     width=\"24px\">\n",
              "    <g>\n",
              "        <path d=\"M19 3H5c-1.1 0-2 .9-2 2v14c0 1.1.9 2 2 2h14c1.1 0 2-.9 2-2V5c0-1.1-.9-2-2-2zM9 17H7v-7h2v7zm4 0h-2V7h2v10zm4 0h-2v-4h2v4z\"/>\n",
              "    </g>\n",
              "</svg>\n",
              "  </button>\n",
              "\n",
              "<style>\n",
              "  .colab-df-quickchart {\n",
              "      --bg-color: #E8F0FE;\n",
              "      --fill-color: #1967D2;\n",
              "      --hover-bg-color: #E2EBFA;\n",
              "      --hover-fill-color: #174EA6;\n",
              "      --disabled-fill-color: #AAA;\n",
              "      --disabled-bg-color: #DDD;\n",
              "  }\n",
              "\n",
              "  [theme=dark] .colab-df-quickchart {\n",
              "      --bg-color: #3B4455;\n",
              "      --fill-color: #D2E3FC;\n",
              "      --hover-bg-color: #434B5C;\n",
              "      --hover-fill-color: #FFFFFF;\n",
              "      --disabled-bg-color: #3B4455;\n",
              "      --disabled-fill-color: #666;\n",
              "  }\n",
              "\n",
              "  .colab-df-quickchart {\n",
              "    background-color: var(--bg-color);\n",
              "    border: none;\n",
              "    border-radius: 50%;\n",
              "    cursor: pointer;\n",
              "    display: none;\n",
              "    fill: var(--fill-color);\n",
              "    height: 32px;\n",
              "    padding: 0;\n",
              "    width: 32px;\n",
              "  }\n",
              "\n",
              "  .colab-df-quickchart:hover {\n",
              "    background-color: var(--hover-bg-color);\n",
              "    box-shadow: 0 1px 2px rgba(60, 64, 67, 0.3), 0 1px 3px 1px rgba(60, 64, 67, 0.15);\n",
              "    fill: var(--button-hover-fill-color);\n",
              "  }\n",
              "\n",
              "  .colab-df-quickchart-complete:disabled,\n",
              "  .colab-df-quickchart-complete:disabled:hover {\n",
              "    background-color: var(--disabled-bg-color);\n",
              "    fill: var(--disabled-fill-color);\n",
              "    box-shadow: none;\n",
              "  }\n",
              "\n",
              "  .colab-df-spinner {\n",
              "    border: 2px solid var(--fill-color);\n",
              "    border-color: transparent;\n",
              "    border-bottom-color: var(--fill-color);\n",
              "    animation:\n",
              "      spin 1s steps(1) infinite;\n",
              "  }\n",
              "\n",
              "  @keyframes spin {\n",
              "    0% {\n",
              "      border-color: transparent;\n",
              "      border-bottom-color: var(--fill-color);\n",
              "      border-left-color: var(--fill-color);\n",
              "    }\n",
              "    20% {\n",
              "      border-color: transparent;\n",
              "      border-left-color: var(--fill-color);\n",
              "      border-top-color: var(--fill-color);\n",
              "    }\n",
              "    30% {\n",
              "      border-color: transparent;\n",
              "      border-left-color: var(--fill-color);\n",
              "      border-top-color: var(--fill-color);\n",
              "      border-right-color: var(--fill-color);\n",
              "    }\n",
              "    40% {\n",
              "      border-color: transparent;\n",
              "      border-right-color: var(--fill-color);\n",
              "      border-top-color: var(--fill-color);\n",
              "    }\n",
              "    60% {\n",
              "      border-color: transparent;\n",
              "      border-right-color: var(--fill-color);\n",
              "    }\n",
              "    80% {\n",
              "      border-color: transparent;\n",
              "      border-right-color: var(--fill-color);\n",
              "      border-bottom-color: var(--fill-color);\n",
              "    }\n",
              "    90% {\n",
              "      border-color: transparent;\n",
              "      border-bottom-color: var(--fill-color);\n",
              "    }\n",
              "  }\n",
              "</style>\n",
              "\n",
              "  <script>\n",
              "    async function quickchart(key) {\n",
              "      const quickchartButtonEl =\n",
              "        document.querySelector('#' + key + ' button');\n",
              "      quickchartButtonEl.disabled = true;  // To prevent multiple clicks.\n",
              "      quickchartButtonEl.classList.add('colab-df-spinner');\n",
              "      try {\n",
              "        const charts = await google.colab.kernel.invokeFunction(\n",
              "            'suggestCharts', [key], {});\n",
              "      } catch (error) {\n",
              "        console.error('Error during call to suggestCharts:', error);\n",
              "      }\n",
              "      quickchartButtonEl.classList.remove('colab-df-spinner');\n",
              "      quickchartButtonEl.classList.add('colab-df-quickchart-complete');\n",
              "    }\n",
              "    (() => {\n",
              "      let quickchartButtonEl =\n",
              "        document.querySelector('#df-662c5d8d-f194-450f-af94-5bc8827621e0 button');\n",
              "      quickchartButtonEl.style.display =\n",
              "        google.colab.kernel.accessAllowed ? 'block' : 'none';\n",
              "    })();\n",
              "  </script>\n",
              "</div>\n",
              "    </div>\n",
              "  </div>\n"
            ]
          },
          "metadata": {},
          "execution_count": 2
        }
      ]
    },
    {
      "cell_type": "code",
      "source": [
        "# Analyze the contents of our dataset further\n",
        "data.info()"
      ],
      "metadata": {
        "colab": {
          "base_uri": "https://localhost:8080/"
        },
        "id": "KmrfzFXkam9q",
        "outputId": "7b0b8c56-a111-4e6b-e9c3-e61e6b49c03f"
      },
      "execution_count": 3,
      "outputs": [
        {
          "output_type": "stream",
          "name": "stdout",
          "text": [
            "<class 'pandas.core.frame.DataFrame'>\n",
            "RangeIndex: 14999 entries, 0 to 14998\n",
            "Data columns (total 10 columns):\n",
            " #   Column                Non-Null Count  Dtype  \n",
            "---  ------                --------------  -----  \n",
            " 0   satisfaction          14999 non-null  float64\n",
            " 1   evaluation            14999 non-null  float64\n",
            " 2   number_of_projects    14999 non-null  int64  \n",
            " 3   average_montly_hours  14999 non-null  int64  \n",
            " 4   time_spend_company    14999 non-null  int64  \n",
            " 5   work_accident         14999 non-null  int64  \n",
            " 6   churn                 14999 non-null  int64  \n",
            " 7   promotion             14999 non-null  int64  \n",
            " 8   department            14999 non-null  object \n",
            " 9   salary                14999 non-null  object \n",
            "dtypes: float64(2), int64(6), object(2)\n",
            "memory usage: 1.1+ MB\n"
          ]
        }
      ]
    },
    {
      "cell_type": "code",
      "source": [
        "# Look for unique values\n",
        "print(data.salary.unique())"
      ],
      "metadata": {
        "colab": {
          "base_uri": "https://localhost:8080/"
        },
        "id": "z1jvLXhja_5J",
        "outputId": "478895fa-8752-465e-c085-b365ff02dd63"
      },
      "execution_count": 4,
      "outputs": [
        {
          "output_type": "stream",
          "name": "stdout",
          "text": [
            "['low' 'medium' 'high']\n"
          ]
        }
      ]
    },
    {
      "cell_type": "markdown",
      "source": [
        "<h2>II. Transforming Categorical Variables</h2>"
      ],
      "metadata": {
        "id": "LN4Fyz8Cb0eg"
      }
    },
    {
      "cell_type": "code",
      "source": [
        "# Change the type of the \"salary\" column to categorical\n",
        "data.salary = data.salary.astype('category')\n",
        "\n",
        "# Provide the correct order of the categories\n",
        "data.salary = data.salary.cat.reorder_categories(['low', 'medium', 'high'])\n",
        "\n",
        "# Encode the categories with integer values\n",
        "data.salary = data.salary.cat.codes"
      ],
      "metadata": {
        "id": "GA-ZV5bGb6wn"
      },
      "execution_count": 5,
      "outputs": []
    },
    {
      "cell_type": "code",
      "source": [
        "# Get dummies and save them in a new dataframe\n",
        "departments = pd.get_dummies(data.department)"
      ],
      "metadata": {
        "id": "IbfE1MZrRvJ_"
      },
      "execution_count": 6,
      "outputs": []
    },
    {
      "cell_type": "code",
      "source": [
        "departments.head()"
      ],
      "metadata": {
        "colab": {
          "base_uri": "https://localhost:8080/",
          "height": 206
        },
        "id": "dHmaV2MSSwvT",
        "outputId": "d46ecda5-fa44-4d44-c502-9dc50d57df7d"
      },
      "execution_count": 7,
      "outputs": [
        {
          "output_type": "execute_result",
          "data": {
            "text/plain": [
              "   IT  RandD  accounting  hr  management  marketing  product_mng  sales  \\\n",
              "0   0      0           0   0           0          0            0      1   \n",
              "1   0      0           0   0           0          0            0      1   \n",
              "2   0      0           0   0           0          0            0      1   \n",
              "3   0      0           0   0           0          0            0      1   \n",
              "4   0      0           0   0           0          0            0      1   \n",
              "\n",
              "   support  technical  \n",
              "0        0          0  \n",
              "1        0          0  \n",
              "2        0          0  \n",
              "3        0          0  \n",
              "4        0          0  "
            ],
            "text/html": [
              "\n",
              "  <div id=\"df-ad5532b8-dc24-4af2-9472-166ccffefacf\" class=\"colab-df-container\">\n",
              "    <div>\n",
              "<style scoped>\n",
              "    .dataframe tbody tr th:only-of-type {\n",
              "        vertical-align: middle;\n",
              "    }\n",
              "\n",
              "    .dataframe tbody tr th {\n",
              "        vertical-align: top;\n",
              "    }\n",
              "\n",
              "    .dataframe thead th {\n",
              "        text-align: right;\n",
              "    }\n",
              "</style>\n",
              "<table border=\"1\" class=\"dataframe\">\n",
              "  <thead>\n",
              "    <tr style=\"text-align: right;\">\n",
              "      <th></th>\n",
              "      <th>IT</th>\n",
              "      <th>RandD</th>\n",
              "      <th>accounting</th>\n",
              "      <th>hr</th>\n",
              "      <th>management</th>\n",
              "      <th>marketing</th>\n",
              "      <th>product_mng</th>\n",
              "      <th>sales</th>\n",
              "      <th>support</th>\n",
              "      <th>technical</th>\n",
              "    </tr>\n",
              "  </thead>\n",
              "  <tbody>\n",
              "    <tr>\n",
              "      <th>0</th>\n",
              "      <td>0</td>\n",
              "      <td>0</td>\n",
              "      <td>0</td>\n",
              "      <td>0</td>\n",
              "      <td>0</td>\n",
              "      <td>0</td>\n",
              "      <td>0</td>\n",
              "      <td>1</td>\n",
              "      <td>0</td>\n",
              "      <td>0</td>\n",
              "    </tr>\n",
              "    <tr>\n",
              "      <th>1</th>\n",
              "      <td>0</td>\n",
              "      <td>0</td>\n",
              "      <td>0</td>\n",
              "      <td>0</td>\n",
              "      <td>0</td>\n",
              "      <td>0</td>\n",
              "      <td>0</td>\n",
              "      <td>1</td>\n",
              "      <td>0</td>\n",
              "      <td>0</td>\n",
              "    </tr>\n",
              "    <tr>\n",
              "      <th>2</th>\n",
              "      <td>0</td>\n",
              "      <td>0</td>\n",
              "      <td>0</td>\n",
              "      <td>0</td>\n",
              "      <td>0</td>\n",
              "      <td>0</td>\n",
              "      <td>0</td>\n",
              "      <td>1</td>\n",
              "      <td>0</td>\n",
              "      <td>0</td>\n",
              "    </tr>\n",
              "    <tr>\n",
              "      <th>3</th>\n",
              "      <td>0</td>\n",
              "      <td>0</td>\n",
              "      <td>0</td>\n",
              "      <td>0</td>\n",
              "      <td>0</td>\n",
              "      <td>0</td>\n",
              "      <td>0</td>\n",
              "      <td>1</td>\n",
              "      <td>0</td>\n",
              "      <td>0</td>\n",
              "    </tr>\n",
              "    <tr>\n",
              "      <th>4</th>\n",
              "      <td>0</td>\n",
              "      <td>0</td>\n",
              "      <td>0</td>\n",
              "      <td>0</td>\n",
              "      <td>0</td>\n",
              "      <td>0</td>\n",
              "      <td>0</td>\n",
              "      <td>1</td>\n",
              "      <td>0</td>\n",
              "      <td>0</td>\n",
              "    </tr>\n",
              "  </tbody>\n",
              "</table>\n",
              "</div>\n",
              "    <div class=\"colab-df-buttons\">\n",
              "\n",
              "  <div class=\"colab-df-container\">\n",
              "    <button class=\"colab-df-convert\" onclick=\"convertToInteractive('df-ad5532b8-dc24-4af2-9472-166ccffefacf')\"\n",
              "            title=\"Convert this dataframe to an interactive table.\"\n",
              "            style=\"display:none;\">\n",
              "\n",
              "  <svg xmlns=\"http://www.w3.org/2000/svg\" height=\"24px\" viewBox=\"0 -960 960 960\">\n",
              "    <path d=\"M120-120v-720h720v720H120Zm60-500h600v-160H180v160Zm220 220h160v-160H400v160Zm0 220h160v-160H400v160ZM180-400h160v-160H180v160Zm440 0h160v-160H620v160ZM180-180h160v-160H180v160Zm440 0h160v-160H620v160Z\"/>\n",
              "  </svg>\n",
              "    </button>\n",
              "\n",
              "  <style>\n",
              "    .colab-df-container {\n",
              "      display:flex;\n",
              "      gap: 12px;\n",
              "    }\n",
              "\n",
              "    .colab-df-convert {\n",
              "      background-color: #E8F0FE;\n",
              "      border: none;\n",
              "      border-radius: 50%;\n",
              "      cursor: pointer;\n",
              "      display: none;\n",
              "      fill: #1967D2;\n",
              "      height: 32px;\n",
              "      padding: 0 0 0 0;\n",
              "      width: 32px;\n",
              "    }\n",
              "\n",
              "    .colab-df-convert:hover {\n",
              "      background-color: #E2EBFA;\n",
              "      box-shadow: 0px 1px 2px rgba(60, 64, 67, 0.3), 0px 1px 3px 1px rgba(60, 64, 67, 0.15);\n",
              "      fill: #174EA6;\n",
              "    }\n",
              "\n",
              "    .colab-df-buttons div {\n",
              "      margin-bottom: 4px;\n",
              "    }\n",
              "\n",
              "    [theme=dark] .colab-df-convert {\n",
              "      background-color: #3B4455;\n",
              "      fill: #D2E3FC;\n",
              "    }\n",
              "\n",
              "    [theme=dark] .colab-df-convert:hover {\n",
              "      background-color: #434B5C;\n",
              "      box-shadow: 0px 1px 3px 1px rgba(0, 0, 0, 0.15);\n",
              "      filter: drop-shadow(0px 1px 2px rgba(0, 0, 0, 0.3));\n",
              "      fill: #FFFFFF;\n",
              "    }\n",
              "  </style>\n",
              "\n",
              "    <script>\n",
              "      const buttonEl =\n",
              "        document.querySelector('#df-ad5532b8-dc24-4af2-9472-166ccffefacf button.colab-df-convert');\n",
              "      buttonEl.style.display =\n",
              "        google.colab.kernel.accessAllowed ? 'block' : 'none';\n",
              "\n",
              "      async function convertToInteractive(key) {\n",
              "        const element = document.querySelector('#df-ad5532b8-dc24-4af2-9472-166ccffefacf');\n",
              "        const dataTable =\n",
              "          await google.colab.kernel.invokeFunction('convertToInteractive',\n",
              "                                                    [key], {});\n",
              "        if (!dataTable) return;\n",
              "\n",
              "        const docLinkHtml = 'Like what you see? Visit the ' +\n",
              "          '<a target=\"_blank\" href=https://colab.research.google.com/notebooks/data_table.ipynb>data table notebook</a>'\n",
              "          + ' to learn more about interactive tables.';\n",
              "        element.innerHTML = '';\n",
              "        dataTable['output_type'] = 'display_data';\n",
              "        await google.colab.output.renderOutput(dataTable, element);\n",
              "        const docLink = document.createElement('div');\n",
              "        docLink.innerHTML = docLinkHtml;\n",
              "        element.appendChild(docLink);\n",
              "      }\n",
              "    </script>\n",
              "  </div>\n",
              "\n",
              "\n",
              "<div id=\"df-58f095e7-6f59-4882-8a5f-e2fd95afcaba\">\n",
              "  <button class=\"colab-df-quickchart\" onclick=\"quickchart('df-58f095e7-6f59-4882-8a5f-e2fd95afcaba')\"\n",
              "            title=\"Suggest charts.\"\n",
              "            style=\"display:none;\">\n",
              "\n",
              "<svg xmlns=\"http://www.w3.org/2000/svg\" height=\"24px\"viewBox=\"0 0 24 24\"\n",
              "     width=\"24px\">\n",
              "    <g>\n",
              "        <path d=\"M19 3H5c-1.1 0-2 .9-2 2v14c0 1.1.9 2 2 2h14c1.1 0 2-.9 2-2V5c0-1.1-.9-2-2-2zM9 17H7v-7h2v7zm4 0h-2V7h2v10zm4 0h-2v-4h2v4z\"/>\n",
              "    </g>\n",
              "</svg>\n",
              "  </button>\n",
              "\n",
              "<style>\n",
              "  .colab-df-quickchart {\n",
              "      --bg-color: #E8F0FE;\n",
              "      --fill-color: #1967D2;\n",
              "      --hover-bg-color: #E2EBFA;\n",
              "      --hover-fill-color: #174EA6;\n",
              "      --disabled-fill-color: #AAA;\n",
              "      --disabled-bg-color: #DDD;\n",
              "  }\n",
              "\n",
              "  [theme=dark] .colab-df-quickchart {\n",
              "      --bg-color: #3B4455;\n",
              "      --fill-color: #D2E3FC;\n",
              "      --hover-bg-color: #434B5C;\n",
              "      --hover-fill-color: #FFFFFF;\n",
              "      --disabled-bg-color: #3B4455;\n",
              "      --disabled-fill-color: #666;\n",
              "  }\n",
              "\n",
              "  .colab-df-quickchart {\n",
              "    background-color: var(--bg-color);\n",
              "    border: none;\n",
              "    border-radius: 50%;\n",
              "    cursor: pointer;\n",
              "    display: none;\n",
              "    fill: var(--fill-color);\n",
              "    height: 32px;\n",
              "    padding: 0;\n",
              "    width: 32px;\n",
              "  }\n",
              "\n",
              "  .colab-df-quickchart:hover {\n",
              "    background-color: var(--hover-bg-color);\n",
              "    box-shadow: 0 1px 2px rgba(60, 64, 67, 0.3), 0 1px 3px 1px rgba(60, 64, 67, 0.15);\n",
              "    fill: var(--button-hover-fill-color);\n",
              "  }\n",
              "\n",
              "  .colab-df-quickchart-complete:disabled,\n",
              "  .colab-df-quickchart-complete:disabled:hover {\n",
              "    background-color: var(--disabled-bg-color);\n",
              "    fill: var(--disabled-fill-color);\n",
              "    box-shadow: none;\n",
              "  }\n",
              "\n",
              "  .colab-df-spinner {\n",
              "    border: 2px solid var(--fill-color);\n",
              "    border-color: transparent;\n",
              "    border-bottom-color: var(--fill-color);\n",
              "    animation:\n",
              "      spin 1s steps(1) infinite;\n",
              "  }\n",
              "\n",
              "  @keyframes spin {\n",
              "    0% {\n",
              "      border-color: transparent;\n",
              "      border-bottom-color: var(--fill-color);\n",
              "      border-left-color: var(--fill-color);\n",
              "    }\n",
              "    20% {\n",
              "      border-color: transparent;\n",
              "      border-left-color: var(--fill-color);\n",
              "      border-top-color: var(--fill-color);\n",
              "    }\n",
              "    30% {\n",
              "      border-color: transparent;\n",
              "      border-left-color: var(--fill-color);\n",
              "      border-top-color: var(--fill-color);\n",
              "      border-right-color: var(--fill-color);\n",
              "    }\n",
              "    40% {\n",
              "      border-color: transparent;\n",
              "      border-right-color: var(--fill-color);\n",
              "      border-top-color: var(--fill-color);\n",
              "    }\n",
              "    60% {\n",
              "      border-color: transparent;\n",
              "      border-right-color: var(--fill-color);\n",
              "    }\n",
              "    80% {\n",
              "      border-color: transparent;\n",
              "      border-right-color: var(--fill-color);\n",
              "      border-bottom-color: var(--fill-color);\n",
              "    }\n",
              "    90% {\n",
              "      border-color: transparent;\n",
              "      border-bottom-color: var(--fill-color);\n",
              "    }\n",
              "  }\n",
              "</style>\n",
              "\n",
              "  <script>\n",
              "    async function quickchart(key) {\n",
              "      const quickchartButtonEl =\n",
              "        document.querySelector('#' + key + ' button');\n",
              "      quickchartButtonEl.disabled = true;  // To prevent multiple clicks.\n",
              "      quickchartButtonEl.classList.add('colab-df-spinner');\n",
              "      try {\n",
              "        const charts = await google.colab.kernel.invokeFunction(\n",
              "            'suggestCharts', [key], {});\n",
              "      } catch (error) {\n",
              "        console.error('Error during call to suggestCharts:', error);\n",
              "      }\n",
              "      quickchartButtonEl.classList.remove('colab-df-spinner');\n",
              "      quickchartButtonEl.classList.add('colab-df-quickchart-complete');\n",
              "    }\n",
              "    (() => {\n",
              "      let quickchartButtonEl =\n",
              "        document.querySelector('#df-58f095e7-6f59-4882-8a5f-e2fd95afcaba button');\n",
              "      quickchartButtonEl.style.display =\n",
              "        google.colab.kernel.accessAllowed ? 'block' : 'none';\n",
              "    })();\n",
              "  </script>\n",
              "</div>\n",
              "    </div>\n",
              "  </div>\n"
            ]
          },
          "metadata": {},
          "execution_count": 7
        }
      ]
    },
    {
      "cell_type": "markdown",
      "source": [
        "<p text-align='justify'>To avoid the dummy variable trap, where two or more dummy variables created by one-hot encoding are highly correlated (multi-collinear), we drop the technical department column.</p>"
      ],
      "metadata": {
        "id": "ESVtYqKnSb70"
      }
    },
    {
      "cell_type": "code",
      "source": [
        "# Drop the \"accounting\" column to avoid \"dummy trap\"\n",
        "departments = departments.drop(\"accounting\", axis=1)\n",
        "\n",
        "# Drop the old column \"department\" as you don't need it anymore\n",
        "data = data.drop(\"department\", axis=1)\n",
        "\n",
        "# Join the new DataFrame \"departments\" to your employee dataset: done\n",
        "data = data.join(departments)"
      ],
      "metadata": {
        "id": "C8RliHFQSHcV"
      },
      "execution_count": 8,
      "outputs": []
    },
    {
      "cell_type": "markdown",
      "source": [
        "<h1>III. Descriptive Statistics</h1>"
      ],
      "metadata": {
        "id": "pX3EdY9bTQFv"
      }
    },
    {
      "cell_type": "code",
      "source": [
        "# Get the total number of observations and save it in a variable\n",
        "n_employees = len(data)\n",
        "\n",
        "# Print the number of employees who stayed / left\n",
        "print(data.churn.value_counts())\n",
        "\n",
        "# Print the percentage of employees who stayed / left\n",
        "print(data.churn.value_counts() / n_employees * 100)"
      ],
      "metadata": {
        "colab": {
          "base_uri": "https://localhost:8080/"
        },
        "id": "T_2E9xHBTPe8",
        "outputId": "8644da52-776a-456a-9f56-ebebcb179567"
      },
      "execution_count": 9,
      "outputs": [
        {
          "output_type": "stream",
          "name": "stdout",
          "text": [
            "0    11428\n",
            "1     3571\n",
            "Name: churn, dtype: int64\n",
            "0    76.191746\n",
            "1    23.808254\n",
            "Name: churn, dtype: float64\n"
          ]
        }
      ]
    },
    {
      "cell_type": "markdown",
      "source": [
        "<p text-align='justify'>A 23.8% of churn is significant so it is crucial to understand what causes it and if data-driven measures can be taken to remediate this situation. We will now explore correlations between features.<p>"
      ],
      "metadata": {
        "id": "td5W--YGUJYw"
      }
    },
    {
      "cell_type": "code",
      "source": [
        "# Build a correlation matrix to evaluate the relationships between features\n",
        "corr_matrix = data.corr()\n",
        "sns.heatmap(corr_matrix)\n",
        "plt.show()"
      ],
      "metadata": {
        "colab": {
          "base_uri": "https://localhost:8080/",
          "height": 580
        },
        "id": "osazYpsyUb4-",
        "outputId": "d190c7d0-7903-46ed-d13e-2ed559121850"
      },
      "execution_count": 10,
      "outputs": [
        {
          "output_type": "display_data",
          "data": {
            "text/plain": [
              "<Figure size 640x480 with 2 Axes>"
            ],
            "image/png": "[encoded data removed]"
          },
          "metadata": {}
        }
      ]
    },
    {
      "cell_type": "markdown",
      "source": [
        "<h1>IV. Splitting the Data</h1>"
      ],
      "metadata": {
        "id": "C8cCB1eLXn1C"
      }
    },
    {
      "cell_type": "code",
      "source": [
        "# Set the target (dependent variable) which needs to be predicted\n",
        "target = data.churn\n",
        "\n",
        "# Drop the churn column in order to obtain our features matrix\n",
        "features = data.drop('churn', axis = 1)"
      ],
      "metadata": {
        "id": "JmG1SeRhZWjF"
      },
      "execution_count": 11,
      "outputs": []
    },
    {
      "cell_type": "code",
      "source": [
        "# Split the data into a training set and a testing set using scikit-learn to increase generalization and avoid overfitting\n",
        "from sklearn.model_selection import train_test_split\n",
        "\n",
        "target_train, target_test, features_train, features_test = train_test_split(target, features, test_size = 0.25, random_state = 42)"
      ],
      "metadata": {
        "id": "YKEyRsmNVN6F"
      },
      "execution_count": 12,
      "outputs": []
    },
    {
      "cell_type": "markdown",
      "source": [
        "<h1>VI. Decision Tree Classification</h1>\n",
        "<p tex-align='justify'>The decision tree algorithm aims to achieve partitions in the terminal nodes that are as pure as possible. The Gini index is one of the methods used to achieve this. It is calculated based on the proportion of samples in each group.</p>"
      ],
      "metadata": {
        "id": "hmUctVXDavLH"
      }
    },
    {
      "cell_type": "code",
      "source": [
        "# Remember the number of employees who stayed versus those who left\n",
        "stayed = 11428\n",
        "left = 3571\n",
        "total = stayed + left\n",
        "\n",
        "# Calculate the gini index\n",
        "gini = 2 * (stayed / total) * (left / total)\n",
        "print(gini)"
      ],
      "metadata": {
        "colab": {
          "base_uri": "https://localhost:8080/"
        },
        "id": "3E-7czitazxK",
        "outputId": "e9c06be1-b3cf-4e9e-ead0-8aeafe45be57"
      },
      "execution_count": 13,
      "outputs": [
        {
          "output_type": "stream",
          "name": "stdout",
          "text": [
            "0.36279848707472784\n"
          ]
        }
      ]
    },
    {
      "cell_type": "markdown",
      "source": [
        "<p text-align='justify'>Given the Gini index that would result from splitting by either variable A or B, respectively, decide by which variable the tree should split next.</p>"
      ],
      "metadata": {
        "id": "2FWckCc9l3ZC"
      }
    },
    {
      "cell_type": "code",
      "source": [
        "# Gini index in case of splitting by variable A or B\n",
        "gini_A = 0.65\n",
        "gini_B = 0.15\n",
        "\n",
        "# We check which Gini is lower and use it for spliting\n",
        "if gini_A < gini_B:\n",
        "  print('Split by A!')\n",
        "else:\n",
        "  print('Split by B!')"
      ],
      "metadata": {
        "colab": {
          "base_uri": "https://localhost:8080/"
        },
        "id": "_VN5MIWgjpoR",
        "outputId": "79a3821d-83e7-4815-c9f1-27af96703bbc"
      },
      "execution_count": 14,
      "outputs": [
        {
          "output_type": "stream",
          "name": "stdout",
          "text": [
            "Split by B!\n"
          ]
        }
      ]
    },
    {
      "cell_type": "code",
      "source": [
        "from sklearn.tree import DecisionTreeClassifier\n",
        "model = DecisionTreeClassifier(random_state = 42)\n",
        "\n",
        "# Apply a decision tree model to fit features to the target in the training set\n",
        "model.fit(features_train,target_train)\n",
        "\n",
        "# Check the accuracy score of the prediction for the training set\n",
        "model.score(features_train,target_train)*100"
      ],
      "metadata": {
        "colab": {
          "base_uri": "https://localhost:8080/"
        },
        "id": "jKDqfVcDmaAU",
        "outputId": "a87abd31-4d0a-4d2a-bf48-955da5b472a4"
      },
      "execution_count": 15,
      "outputs": [
        {
          "output_type": "execute_result",
          "data": {
            "text/plain": [
              "100.0"
            ]
          },
          "metadata": {},
          "execution_count": 15
        }
      ]
    },
    {
      "cell_type": "code",
      "source": [
        "# Check the accuracy score of the prediction for the test set\n",
        "model.score(features_test,target_test)*100"
      ],
      "metadata": {
        "colab": {
          "base_uri": "https://localhost:8080/"
        },
        "id": "FthxF9Ikx9tf",
        "outputId": "18e01af4-16f8-4d03-e927-fed2675c0ecb"
      },
      "execution_count": 16,
      "outputs": [
        {
          "output_type": "execute_result",
          "data": {
            "text/plain": [
              "97.22666666666666"
            ]
          },
          "metadata": {},
          "execution_count": 16
        }
      ]
    },
    {
      "cell_type": "markdown",
      "source": [
        "<p text-align='justify'>In Decision Tree classification tasks, overfitting is usually the result of deeply grown trees. As the comparison of accuracy scores on the train and test sets shows, we have overfitting in our results. This can also be learned from a tree visualization. We will now export the decision tree into a text document which can then be used for visualization.</p>"
      ],
      "metadata": {
        "id": "TsYWE7nCyFJh"
      }
    },
    {
      "cell_type": "code",
      "source": [
        "# Import the tree graphical visualization export function\n",
        "from sklearn.tree import export_graphviz\n",
        "\n",
        "# Apply Decision Tree model to fit features to the target\n",
        "model.fit(features_train,target_train)\n",
        "\n",
        "# Export the tree to a dot file\n",
        "export_graphviz(model,\"tree.dot\")"
      ],
      "metadata": {
        "id": "osM0UwHDyNoV"
      },
      "execution_count": 17,
      "outputs": []
    },
    {
      "cell_type": "markdown",
      "source": [
        "<h1>Pruning the Tree</h1>\n",
        "<p text-align='justify'>Overfitting is a classic problem in analytics, especially for the decision tree algorithm. Once the tree is fully grown, it may provide highly accurate predictions for the training sample, yet fail to be that accurate on the test set. For that reason, the growth of the decision tree is usually controlled by:</p>\n",
        "<ul>\n",
        "<li>“Pruning” the tree and setting a limit on the maximum depth it can have.</li>\n",
        "<li>Limiting the minimum number of observations in one leaf of the tree.</li>\n",
        "</ul>"
      ],
      "metadata": {
        "id": "IhsEd-UV4Hvk"
      }
    },
    {
      "cell_type": "code",
      "source": [
        "# Initialize the DecisionTreeClassifier while limiting the depth of the tree to 5\n",
        "model_depth_5 = DecisionTreeClassifier(max_depth=5, random_state=42)\n",
        "\n",
        "# Fit the model\n",
        "model_depth_5.fit(features_train,target_train)\n",
        "\n",
        "# Print the accuracy of the prediction for the training set\n",
        "print(model_depth_5.score(features_train,target_train)*100)\n",
        "\n",
        "# Print the accuracy of the prediction for the test set\n",
        "print(model_depth_5.score(features_test,target_test)*100)"
      ],
      "metadata": {
        "colab": {
          "base_uri": "https://localhost:8080/"
        },
        "id": "J6l900VP4tT-",
        "outputId": "01d6e7cf-1a3d-4a12-ece7-29f5f2d79953"
      },
      "execution_count": 18,
      "outputs": [
        {
          "output_type": "stream",
          "name": "stdout",
          "text": [
            "97.71535247577563\n",
            "97.06666666666666\n"
          ]
        }
      ]
    },
    {
      "cell_type": "markdown",
      "source": [
        "<h1>Limiting the Sample Size</h1>"
      ],
      "metadata": {
        "id": "LJ_2PVZ56Gf2"
      }
    },
    {
      "cell_type": "code",
      "source": [
        "# Initialize the DecisionTreeClassifier while limiting the sample size in leaves to 100\n",
        "model_sample_100 = DecisionTreeClassifier(min_samples_leaf=100, random_state=42)\n",
        "\n",
        "# Fit the model\n",
        "model_sample_100.fit(features_train,target_train)\n",
        "\n",
        "# Print the accuracy of the prediction (in percentage points) for the training set\n",
        "print(model_sample_100.score(features_train,target_train)*100)\n",
        "\n",
        "# Print the accuracy of the prediction (in percentage points) for the test set\n",
        "print(model_sample_100.score(features_test,target_test)*100)"
      ],
      "metadata": {
        "colab": {
          "base_uri": "https://localhost:8080/"
        },
        "id": "JymNWqsp6VzS",
        "outputId": "c55ec431-7aa5-4890-ccad-9c144f4a706d"
      },
      "execution_count": 19,
      "outputs": [
        {
          "output_type": "stream",
          "name": "stdout",
          "text": [
            "96.57747355320473\n",
            "96.13333333333334\n"
          ]
        }
      ]
    },
    {
      "cell_type": "markdown",
      "source": [
        "<h1>VII. Model Evaluation</h1>\n",
        "<p text-align='justify'>Depending on what we want to focus on, we will choose one metric over another:\n",
        "<ul>\n",
        "<li>When we want the % of churn predictions that were correct, we will use precision.</li>\n",
        "<li> When we want to focus on the % of correct churn predictions among leavers, we can use recall.</li>\n",
        "<li>When we want to focus on the % of correct churn predictions among stayers, we can use specificity.</li>\n",
        "</ul>"
      ],
      "metadata": {
        "id": "vZXHMSWz8it4"
      }
    },
    {
      "cell_type": "code",
      "source": [
        "# Import the function to calculate precision score\n",
        "from sklearn.metrics import precision_score\n",
        "\n",
        "# We predict whether employees will churn using the test set\n",
        "prediction = model.predict(features_test)\n",
        "\n",
        "# We calculate precision score by comparing target_test with the prediction\n",
        "precision_score(target_test, prediction)"
      ],
      "metadata": {
        "colab": {
          "base_uri": "https://localhost:8080/"
        },
        "id": "g6mvNmQV98Aq",
        "outputId": "1350e8b5-d4b1-4c2c-b479-5497a16d1f0c"
      },
      "execution_count": 20,
      "outputs": [
        {
          "output_type": "execute_result",
          "data": {
            "text/plain": [
              "0.9240641711229947"
            ]
          },
          "metadata": {},
          "execution_count": 20
        }
      ]
    },
    {
      "cell_type": "code",
      "source": [
        "# We import the function to calculate recall score\n",
        "from sklearn.metrics import recall_score\n",
        "\n",
        "# We use the initial model to predict churn\n",
        "prediction = model.predict(features_test)\n",
        "\n",
        "# We calculate recall score by comparing target_test with the prediction\n",
        "recall_score(target_test, prediction)"
      ],
      "metadata": {
        "colab": {
          "base_uri": "https://localhost:8080/"
        },
        "id": "o4nuy2cPYEfn",
        "outputId": "8a8a0f14-70aa-47e9-eba1-95ece938ef4d"
      },
      "execution_count": 21,
      "outputs": [
        {
          "output_type": "execute_result",
          "data": {
            "text/plain": [
              "0.9632107023411371"
            ]
          },
          "metadata": {},
          "execution_count": 21
        }
      ]
    },
    {
      "cell_type": "code",
      "source": [
        "# We import the function to calculate ROC/AUC score\n",
        "from sklearn.metrics import roc_auc_score\n",
        "\n",
        "# We use initial model to predict churn (based on features_test)\n",
        "prediction = model.predict(features_test)\n",
        "\n",
        "# We calculate ROC/AUC score by comparing target_test with the prediction\n",
        "roc_auc_score(target_test, prediction)"
      ],
      "metadata": {
        "colab": {
          "base_uri": "https://localhost:8080/"
        },
        "id": "Nh299eynZTAo",
        "outputId": "7eac10c9-86db-4002-8aeb-8db68facca91"
      },
      "execution_count": 22,
      "outputs": [
        {
          "output_type": "execute_result",
          "data": {
            "text/plain": [
              "0.9691623087590718"
            ]
          },
          "metadata": {},
          "execution_count": 22
        }
      ]
    },
    {
      "cell_type": "markdown",
      "source": [
        "<p text-align='justify'>The accuracy score is a good choice when classes in the dataset are balanced and that's why we used other metrics so far. Nevertheless, they don't fully resolve the class imbalance. To do this, what we can do is to change prior probabilities. We just need to tell Python to balance class weights which will make probability of both being 0 and 1 equal to 50%. This will probably negatively affect the general accuracy as a result of increased Gini, but AUC and especially Recall should probably be improved, as now both classes are equally important.</p>"
      ],
      "metadata": {
        "id": "IL5RGEY2Zm6a"
      }
    },
    {
      "cell_type": "code",
      "source": [
        "# We initialize the DecisionTreeClassifier\n",
        "model_depth_5_b = DecisionTreeClassifier(max_depth=5,class_weight=\"balanced\",random_state=42)\n",
        "\n",
        "# We fit the model\n",
        "model_depth_5_b.fit(features_train,target_train)\n",
        "\n",
        "# We print the accuracy of the prediction (in percentage points) for the test set\n",
        "print(model_depth_5_b.score(features_test,target_test)*100)"
      ],
      "metadata": {
        "colab": {
          "base_uri": "https://localhost:8080/"
        },
        "id": "ukTP6Gf7aYVa",
        "outputId": "f56ffb90-aed0-43a7-9b03-a1fcdcbe204e"
      },
      "execution_count": 23,
      "outputs": [
        {
          "output_type": "stream",
          "name": "stdout",
          "text": [
            "93.70666666666668\n"
          ]
        }
      ]
    },
    {
      "cell_type": "markdown",
      "source": [
        "<p text-align='justify'>We will now compare the balanced and imbalanced employee churn models.</p>"
      ],
      "metadata": {
        "id": "hYozj7Qrb1MO"
      }
    },
    {
      "cell_type": "code",
      "source": [
        "# Print the recall score\n",
        "print(\"Imbalanced recall_score: \" + str(recall_score(target_test,prediction)))\n",
        "# Print the ROC/AUC score\n",
        "print(\"Imbalanced roc_auc_score: \" + str(roc_auc_score(target_test,prediction)))\n",
        "\n",
        "# Initialize the model\n",
        "model_depth_7_b = DecisionTreeClassifier(max_depth=7,class_weight=\"balanced\",random_state=42)\n",
        "# Fit it to the training component\n",
        "model_depth_7_b.fit(features_train,target_train)\n",
        "# Make prediction using test component\n",
        "prediction_b = model_depth_7_b.predict(features_test)\n",
        "# Print the recall score for the balanced model\n",
        "print(\"Balanced recall_score: \" + str(recall_score(target_test, prediction_b)))\n",
        "# Print the ROC/AUC score for the balanced model\n",
        "print(\"Balanced roc_auc_score: \" + str(roc_auc_score(target_test, prediction_b)))"
      ],
      "metadata": {
        "colab": {
          "base_uri": "https://localhost:8080/"
        },
        "id": "CxWsMr2Ab-3B",
        "outputId": "01d23d12-f509-4d3f-cabb-8b35c5ea4ad4"
      },
      "execution_count": 24,
      "outputs": [
        {
          "output_type": "stream",
          "name": "stdout",
          "text": [
            "Imbalanced recall_score: 0.9632107023411371\n",
            "Imbalanced roc_auc_score: 0.9691623087590718\n",
            "Balanced recall_score: 0.9319955406911928\n",
            "Balanced roc_auc_score: 0.959863876199084\n"
          ]
        }
      ]
    },
    {
      "cell_type": "markdown",
      "source": [
        "<h1>VIII. Hyperparameter tuning</h1>\n",
        "<p text-align='justify'>How do we know which depth of the tree is the ideal? Same goes for other parameters covered until now. The answer is very simple, we just try different values and find the one that provides best possible predictions. To find the optimal values for those hyperparameters, one needs to create a grid, a list of applicable values that he or she wants to test and then search among those values the one that achieves highest accuracy.</p>"
      ],
      "metadata": {
        "id": "ubOR7-tEh2Em"
      }
    },
    {
      "cell_type": "code",
      "source": [
        "# We import the function for implementing cross validation\n",
        "from sklearn.model_selection import cross_val_score\n",
        "\n",
        "# We use that function to print the cross validation score for 10 folds\n",
        "print(cross_val_score(model,features,target,cv=10))"
      ],
      "metadata": {
        "colab": {
          "base_uri": "https://localhost:8080/"
        },
        "id": "cas9RNsLk1kF",
        "outputId": "856ded5c-2051-4da9-d076-309f2d3cbd8f"
      },
      "execution_count": 25,
      "outputs": [
        {
          "output_type": "stream",
          "name": "stdout",
          "text": [
            "[0.98533333 0.98533333 0.974      0.96533333 0.96       0.97933333\n",
            " 0.99       0.99333333 1.         1.        ]\n"
          ]
        }
      ]
    },
    {
      "cell_type": "code",
      "source": [
        "# Generate values for maximum depth\n",
        "depth = [i for i in range(5,21,1)]\n",
        "\n",
        "# Generate values for minimum sample size\n",
        "samples = [i for i in range(50,500,50)]\n",
        "\n",
        "# Create the dictionary with parameters to be checked\n",
        "parameters = dict(max_depth=depth, min_samples_leaf=samples)"
      ],
      "metadata": {
        "id": "ld34FsjknpPo"
      },
      "execution_count": 26,
      "outputs": []
    },
    {
      "cell_type": "code",
      "source": [
        "# We import the GridSearchCV function\n",
        "from sklearn.model_selection import GridSearchCV\n",
        "\n",
        "# Set up parameters: done\n",
        "parameters = dict(max_depth=depth, min_samples_leaf=samples)\n",
        "\n",
        "# Initialize the param_search function using the GridSearchCV function, initial model and parameters above\n",
        "param_search = GridSearchCV(model, parameters, cv=3)\n",
        "\n",
        "# Fit the param_search to the training dataset\n",
        "param_search.fit(features_train, target_train)\n",
        "\n",
        "# print the best parameters found\n",
        "print(param_search.best_params_)"
      ],
      "metadata": {
        "colab": {
          "base_uri": "https://localhost:8080/"
        },
        "id": "gVBVLEAeoOUt",
        "outputId": "11a8a513-06fa-4015-db8d-8c471c990187"
      },
      "execution_count": 27,
      "outputs": [
        {
          "output_type": "stream",
          "name": "stdout",
          "text": [
            "{'max_depth': 5, 'min_samples_leaf': 50}\n"
          ]
        }
      ]
    },
    {
      "cell_type": "markdown",
      "source": [
        "<p text-align='justify'>One of the main reasons we chose to use Decision Tree algorithm is that it provides interpretability. We can not only visualize and explain it, but we can also understand what are the important features that drive the decision to leave the company. Fortunately, once Decision Tree is developed, sklearn can easily calculate feature importances. The latter is equal to the relative decrease in Gini due to the selected feature. Once the calculation is done for all features, the values are rescaled to sum up to 100%. As a result, higher percentage speaks about the feature being more important.</p>"
      ],
      "metadata": {
        "id": "P3fN2Z7sohB5"
      }
    },
    {
      "cell_type": "code",
      "source": [
        "# Initialize the model\n",
        "model_best = DecisionTreeClassifier(max_depth=5, min_samples_leaf=50, class_weight=\"balanced\",random_state=42)\n",
        "\n",
        "# Fit it to the training component\n",
        "model_best.fit(features_train, target_train)\n",
        "\n",
        "# Make prediction using test component\n",
        "prediction_b = model_best.predict(features_test)\n",
        "\n",
        "# Calculate feature importances\n",
        "feature_importances = model_best.feature_importances_\n",
        "\n",
        "# Create a list of features: done\n",
        "feature_list = list(features)\n",
        "\n",
        "# Save the results inside a DataFrame using feature_list as an index\n",
        "relative_importances = pd.DataFrame(index=feature_list, data=feature_importances, columns=[\"importance\"])\n",
        "\n",
        "# Sort values to learn most important features\n",
        "relative_importances.sort_values(by=\"importance\", ascending=False)"
      ],
      "metadata": {
        "colab": {
          "base_uri": "https://localhost:8080/",
          "height": 582
        },
        "id": "sT9y04PKo4T2",
        "outputId": "08af0c09-2bd3-4e9a-e039-73ce6e82f944"
      },
      "execution_count": 28,
      "outputs": [
        {
          "output_type": "execute_result",
          "data": {
            "text/plain": [
              "                      importance\n",
              "satisfaction            0.453971\n",
              "time_spend_company      0.397473\n",
              "evaluation              0.104644\n",
              "average_montly_hours    0.033545\n",
              "number_of_projects      0.007103\n",
              "technical               0.002226\n",
              "hr                      0.001038\n",
              "promotion               0.000000\n",
              "salary                  0.000000\n",
              "work_accident           0.000000\n",
              "RandD                   0.000000\n",
              "management              0.000000\n",
              "marketing               0.000000\n",
              "product_mng             0.000000\n",
              "sales                   0.000000\n",
              "support                 0.000000\n",
              "IT                      0.000000"
            ],
            "text/html": [
              "\n",
              "  <div id=\"df-ab0fd0bc-d58a-49a6-aa7a-fdac5b23dfa9\" class=\"colab-df-container\">\n",
              "    <div>\n",
              "<style scoped>\n",
              "    .dataframe tbody tr th:only-of-type {\n",
              "        vertical-align: middle;\n",
              "    }\n",
              "\n",
              "    .dataframe tbody tr th {\n",
              "        vertical-align: top;\n",
              "    }\n",
              "\n",
              "    .dataframe thead th {\n",
              "        text-align: right;\n",
              "    }\n",
              "</style>\n",
              "<table border=\"1\" class=\"dataframe\">\n",
              "  <thead>\n",
              "    <tr style=\"text-align: right;\">\n",
              "      <th></th>\n",
              "      <th>importance</th>\n",
              "    </tr>\n",
              "  </thead>\n",
              "  <tbody>\n",
              "    <tr>\n",
              "      <th>satisfaction</th>\n",
              "      <td>0.453971</td>\n",
              "    </tr>\n",
              "    <tr>\n",
              "      <th>time_spend_company</th>\n",
              "      <td>0.397473</td>\n",
              "    </tr>\n",
              "    <tr>\n",
              "      <th>evaluation</th>\n",
              "      <td>0.104644</td>\n",
              "    </tr>\n",
              "    <tr>\n",
              "      <th>average_montly_hours</th>\n",
              "      <td>0.033545</td>\n",
              "    </tr>\n",
              "    <tr>\n",
              "      <th>number_of_projects</th>\n",
              "      <td>0.007103</td>\n",
              "    </tr>\n",
              "    <tr>\n",
              "      <th>technical</th>\n",
              "      <td>0.002226</td>\n",
              "    </tr>\n",
              "    <tr>\n",
              "      <th>hr</th>\n",
              "      <td>0.001038</td>\n",
              "    </tr>\n",
              "    <tr>\n",
              "      <th>promotion</th>\n",
              "      <td>0.000000</td>\n",
              "    </tr>\n",
              "    <tr>\n",
              "      <th>salary</th>\n",
              "      <td>0.000000</td>\n",
              "    </tr>\n",
              "    <tr>\n",
              "      <th>work_accident</th>\n",
              "      <td>0.000000</td>\n",
              "    </tr>\n",
              "    <tr>\n",
              "      <th>RandD</th>\n",
              "      <td>0.000000</td>\n",
              "    </tr>\n",
              "    <tr>\n",
              "      <th>management</th>\n",
              "      <td>0.000000</td>\n",
              "    </tr>\n",
              "    <tr>\n",
              "      <th>marketing</th>\n",
              "      <td>0.000000</td>\n",
              "    </tr>\n",
              "    <tr>\n",
              "      <th>product_mng</th>\n",
              "      <td>0.000000</td>\n",
              "    </tr>\n",
              "    <tr>\n",
              "      <th>sales</th>\n",
              "      <td>0.000000</td>\n",
              "    </tr>\n",
              "    <tr>\n",
              "      <th>support</th>\n",
              "      <td>0.000000</td>\n",
              "    </tr>\n",
              "    <tr>\n",
              "      <th>IT</th>\n",
              "      <td>0.000000</td>\n",
              "    </tr>\n",
              "  </tbody>\n",
              "</table>\n",
              "</div>\n",
              "    <div class=\"colab-df-buttons\">\n",
              "\n",
              "  <div class=\"colab-df-container\">\n",
              "    <button class=\"colab-df-convert\" onclick=\"convertToInteractive('df-ab0fd0bc-d58a-49a6-aa7a-fdac5b23dfa9')\"\n",
              "            title=\"Convert this dataframe to an interactive table.\"\n",
              "            style=\"display:none;\">\n",
              "\n",
              "  <svg xmlns=\"http://www.w3.org/2000/svg\" height=\"24px\" viewBox=\"0 -960 960 960\">\n",
              "    <path d=\"M120-120v-720h720v720H120Zm60-500h600v-160H180v160Zm220 220h160v-160H400v160Zm0 220h160v-160H400v160ZM180-400h160v-160H180v160Zm440 0h160v-160H620v160ZM180-180h160v-160H180v160Zm440 0h160v-160H620v160Z\"/>\n",
              "  </svg>\n",
              "    </button>\n",
              "\n",
              "  <style>\n",
              "    .colab-df-container {\n",
              "      display:flex;\n",
              "      gap: 12px;\n",
              "    }\n",
              "\n",
              "    .colab-df-convert {\n",
              "      background-color: #E8F0FE;\n",
              "      border: none;\n",
              "      border-radius: 50%;\n",
              "      cursor: pointer;\n",
              "      display: none;\n",
              "      fill: #1967D2;\n",
              "      height: 32px;\n",
              "      padding: 0 0 0 0;\n",
              "      width: 32px;\n",
              "    }\n",
              "\n",
              "    .colab-df-convert:hover {\n",
              "      background-color: #E2EBFA;\n",
              "      box-shadow: 0px 1px 2px rgba(60, 64, 67, 0.3), 0px 1px 3px 1px rgba(60, 64, 67, 0.15);\n",
              "      fill: #174EA6;\n",
              "    }\n",
              "\n",
              "    .colab-df-buttons div {\n",
              "      margin-bottom: 4px;\n",
              "    }\n",
              "\n",
              "    [theme=dark] .colab-df-convert {\n",
              "      background-color: #3B4455;\n",
              "      fill: #D2E3FC;\n",
              "    }\n",
              "\n",
              "    [theme=dark] .colab-df-convert:hover {\n",
              "      background-color: #434B5C;\n",
              "      box-shadow: 0px 1px 3px 1px rgba(0, 0, 0, 0.15);\n",
              "      filter: drop-shadow(0px 1px 2px rgba(0, 0, 0, 0.3));\n",
              "      fill: #FFFFFF;\n",
              "    }\n",
              "  </style>\n",
              "\n",
              "    <script>\n",
              "      const buttonEl =\n",
              "        document.querySelector('#df-ab0fd0bc-d58a-49a6-aa7a-fdac5b23dfa9 button.colab-df-convert');\n",
              "      buttonEl.style.display =\n",
              "        google.colab.kernel.accessAllowed ? 'block' : 'none';\n",
              "\n",
              "      async function convertToInteractive(key) {\n",
              "        const element = document.querySelector('#df-ab0fd0bc-d58a-49a6-aa7a-fdac5b23dfa9');\n",
              "        const dataTable =\n",
              "          await google.colab.kernel.invokeFunction('convertToInteractive',\n",
              "                                                    [key], {});\n",
              "        if (!dataTable) return;\n",
              "\n",
              "        const docLinkHtml = 'Like what you see? Visit the ' +\n",
              "          '<a target=\"_blank\" href=https://colab.research.google.com/notebooks/data_table.ipynb>data table notebook</a>'\n",
              "          + ' to learn more about interactive tables.';\n",
              "        element.innerHTML = '';\n",
              "        dataTable['output_type'] = 'display_data';\n",
              "        await google.colab.output.renderOutput(dataTable, element);\n",
              "        const docLink = document.createElement('div');\n",
              "        docLink.innerHTML = docLinkHtml;\n",
              "        element.appendChild(docLink);\n",
              "      }\n",
              "    </script>\n",
              "  </div>\n",
              "\n",
              "\n",
              "<div id=\"df-70fa1552-5ea0-4a29-807c-13f36e538a32\">\n",
              "  <button class=\"colab-df-quickchart\" onclick=\"quickchart('df-70fa1552-5ea0-4a29-807c-13f36e538a32')\"\n",
              "            title=\"Suggest charts.\"\n",
              "            style=\"display:none;\">\n",
              "\n",
              "<svg xmlns=\"http://www.w3.org/2000/svg\" height=\"24px\"viewBox=\"0 0 24 24\"\n",
              "     width=\"24px\">\n",
              "    <g>\n",
              "        <path d=\"M19 3H5c-1.1 0-2 .9-2 2v14c0 1.1.9 2 2 2h14c1.1 0 2-.9 2-2V5c0-1.1-.9-2-2-2zM9 17H7v-7h2v7zm4 0h-2V7h2v10zm4 0h-2v-4h2v4z\"/>\n",
              "    </g>\n",
              "</svg>\n",
              "  </button>\n",
              "\n",
              "<style>\n",
              "  .colab-df-quickchart {\n",
              "      --bg-color: #E8F0FE;\n",
              "      --fill-color: #1967D2;\n",
              "      --hover-bg-color: #E2EBFA;\n",
              "      --hover-fill-color: #174EA6;\n",
              "      --disabled-fill-color: #AAA;\n",
              "      --disabled-bg-color: #DDD;\n",
              "  }\n",
              "\n",
              "  [theme=dark] .colab-df-quickchart {\n",
              "      --bg-color: #3B4455;\n",
              "      --fill-color: #D2E3FC;\n",
              "      --hover-bg-color: #434B5C;\n",
              "      --hover-fill-color: #FFFFFF;\n",
              "      --disabled-bg-color: #3B4455;\n",
              "      --disabled-fill-color: #666;\n",
              "  }\n",
              "\n",
              "  .colab-df-quickchart {\n",
              "    background-color: var(--bg-color);\n",
              "    border: none;\n",
              "    border-radius: 50%;\n",
              "    cursor: pointer;\n",
              "    display: none;\n",
              "    fill: var(--fill-color);\n",
              "    height: 32px;\n",
              "    padding: 0;\n",
              "    width: 32px;\n",
              "  }\n",
              "\n",
              "  .colab-df-quickchart:hover {\n",
              "    background-color: var(--hover-bg-color);\n",
              "    box-shadow: 0 1px 2px rgba(60, 64, 67, 0.3), 0 1px 3px 1px rgba(60, 64, 67, 0.15);\n",
              "    fill: var(--button-hover-fill-color);\n",
              "  }\n",
              "\n",
              "  .colab-df-quickchart-complete:disabled,\n",
              "  .colab-df-quickchart-complete:disabled:hover {\n",
              "    background-color: var(--disabled-bg-color);\n",
              "    fill: var(--disabled-fill-color);\n",
              "    box-shadow: none;\n",
              "  }\n",
              "\n",
              "  .colab-df-spinner {\n",
              "    border: 2px solid var(--fill-color);\n",
              "    border-color: transparent;\n",
              "    border-bottom-color: var(--fill-color);\n",
              "    animation:\n",
              "      spin 1s steps(1) infinite;\n",
              "  }\n",
              "\n",
              "  @keyframes spin {\n",
              "    0% {\n",
              "      border-color: transparent;\n",
              "      border-bottom-color: var(--fill-color);\n",
              "      border-left-color: var(--fill-color);\n",
              "    }\n",
              "    20% {\n",
              "      border-color: transparent;\n",
              "      border-left-color: var(--fill-color);\n",
              "      border-top-color: var(--fill-color);\n",
              "    }\n",
              "    30% {\n",
              "      border-color: transparent;\n",
              "      border-left-color: var(--fill-color);\n",
              "      border-top-color: var(--fill-color);\n",
              "      border-right-color: var(--fill-color);\n",
              "    }\n",
              "    40% {\n",
              "      border-color: transparent;\n",
              "      border-right-color: var(--fill-color);\n",
              "      border-top-color: var(--fill-color);\n",
              "    }\n",
              "    60% {\n",
              "      border-color: transparent;\n",
              "      border-right-color: var(--fill-color);\n",
              "    }\n",
              "    80% {\n",
              "      border-color: transparent;\n",
              "      border-right-color: var(--fill-color);\n",
              "      border-bottom-color: var(--fill-color);\n",
              "    }\n",
              "    90% {\n",
              "      border-color: transparent;\n",
              "      border-bottom-color: var(--fill-color);\n",
              "    }\n",
              "  }\n",
              "</style>\n",
              "\n",
              "  <script>\n",
              "    async function quickchart(key) {\n",
              "      const quickchartButtonEl =\n",
              "        document.querySelector('#' + key + ' button');\n",
              "      quickchartButtonEl.disabled = true;  // To prevent multiple clicks.\n",
              "      quickchartButtonEl.classList.add('colab-df-spinner');\n",
              "      try {\n",
              "        const charts = await google.colab.kernel.invokeFunction(\n",
              "            'suggestCharts', [key], {});\n",
              "      } catch (error) {\n",
              "        console.error('Error during call to suggestCharts:', error);\n",
              "      }\n",
              "      quickchartButtonEl.classList.remove('colab-df-spinner');\n",
              "      quickchartButtonEl.classList.add('colab-df-quickchart-complete');\n",
              "    }\n",
              "    (() => {\n",
              "      let quickchartButtonEl =\n",
              "        document.querySelector('#df-70fa1552-5ea0-4a29-807c-13f36e538a32 button');\n",
              "      quickchartButtonEl.style.display =\n",
              "        google.colab.kernel.accessAllowed ? 'block' : 'none';\n",
              "    })();\n",
              "  </script>\n",
              "</div>\n",
              "    </div>\n",
              "  </div>\n"
            ]
          },
          "metadata": {},
          "execution_count": 28
        }
      ]
    },
    {
      "cell_type": "code",
      "source": [
        "# Select only features with relative importance higher than 1%\n",
        "selected_features = relative_importances[relative_importances.importance>0.01]\n",
        "\n",
        "# Create a list from those features: done\n",
        "selected_list = selected_features.index\n",
        "\n",
        "# Transform both features_train and features_test components to include only selected features\n",
        "features_train_selected = features_train[selected_list]\n",
        "features_test_selected = features_test[selected_list]\n",
        "print(features_train_selected)\n",
        "print(features_test_selected)"
      ],
      "metadata": {
        "colab": {
          "base_uri": "https://localhost:8080/"
        },
        "id": "flBNIDmGuxcx",
        "outputId": "a9ab3f20-9b15-4bd9-b1f3-f004a7f1de6f"
      },
      "execution_count": 29,
      "outputs": [
        {
          "output_type": "stream",
          "name": "stdout",
          "text": [
            "       satisfaction  evaluation  average_montly_hours  time_spend_company\n",
            "14480          0.38        0.86                   139                   6\n",
            "1934           0.78        0.93                   225                   5\n",
            "7900           0.56        0.71                   243                   3\n",
            "2952           0.96        0.62                   217                   2\n",
            "4367           0.83        0.53                   211                   4\n",
            "...             ...         ...                   ...                 ...\n",
            "5191           0.52        0.96                   246                   3\n",
            "13418          0.49        0.65                   233                   7\n",
            "5390           0.66        0.73                   249                   2\n",
            "860            0.79        1.00                   218                   5\n",
            "7270           0.98        0.86                   219                   4\n",
            "\n",
            "[11249 rows x 4 columns]\n",
            "       satisfaction  evaluation  average_montly_hours  time_spend_company\n",
            "6723           0.65        0.96                   226                   2\n",
            "6473           0.88        0.80                   166                   2\n",
            "4679           0.69        0.98                   214                   2\n",
            "862            0.41        0.47                   154                   3\n",
            "7286           0.87        0.76                   254                   2\n",
            "...             ...         ...                   ...                 ...\n",
            "10371          0.99        0.37                   219                   6\n",
            "12541          0.81        0.87                   254                   5\n",
            "2656           0.67        0.59                   177                   3\n",
            "6759           0.22        0.57                   174                   6\n",
            "13564          0.36        0.73                   111                   2\n",
            "\n",
            "[3750 rows x 4 columns]\n"
          ]
        }
      ]
    },
    {
      "cell_type": "markdown",
      "source": [
        "<p text-align='justify'>Out of the 17 initial features, we were able to reduce dimensionality to only four features. We will now repeat some of the steps we did previously using only our shortlisted features.</p>"
      ],
      "metadata": {
        "id": "U39fDV1ovqfc"
      }
    },
    {
      "cell_type": "code",
      "source": [
        "# Initialize the model\n",
        "model_best = DecisionTreeClassifier(max_depth=5, min_samples_leaf=50, class_weight=\"balanced\",random_state=42)\n",
        "\n",
        "# Fit it to the training component\n",
        "model_best.fit(features_train_selected, target_train)\n",
        "\n",
        "# Make prediction using test component\n",
        "prediction_best = model_best.predict(features_test_selected)\n",
        "\n",
        "# Print the general accuracy of the model_best\n",
        "print(model_best.score(features_test_selected, target_test) * 100)\n",
        "\n",
        "# Print the recall score of the model predictions\n",
        "print(recall_score(target_test, prediction_best) * 100)\n",
        "\n",
        "# Print the ROC/AUC score of the model predictions\n",
        "print(roc_auc_score(target_test, prediction_best) * 100)"
      ],
      "metadata": {
        "colab": {
          "base_uri": "https://localhost:8080/"
        },
        "id": "HJLKS3LDvmZ-",
        "outputId": "4eb0e7aa-16f2-480a-c9b7-1b497cebf571"
      },
      "execution_count": 30,
      "outputs": [
        {
          "output_type": "stream",
          "name": "stdout",
          "text": [
            "93.46666666666667\n",
            "91.9732441471572\n",
            "92.95472582401672\n"
          ]
        }
      ]
    }
  ]
}